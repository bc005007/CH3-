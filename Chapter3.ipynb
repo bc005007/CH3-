{
 "cells": [
  {
   "attachments": {},
   "cell_type": "markdown",
   "metadata": {},
   "source": [
    "# Chapter3 벡터"
   ]
  },
  {
   "cell_type": "code",
   "execution_count": 1,
   "metadata": {},
   "outputs": [
    {
     "name": "stdout",
     "output_type": "stream",
     "text": [
      "/Users/lwh/Desktop/coding_the_matrix\n"
     ]
    }
   ],
   "source": [
    "!pwd"
   ]
  },
  {
   "cell_type": "code",
   "execution_count": 17,
   "metadata": {},
   "outputs": [],
   "source": [
    "import matplotlib.pyplot as plt\n",
    "import sys\n",
    "sys.path.append(\"/Users/lwh/Desktop/coding_the_matrix\")\n",
    "from plotting import plot\n",
    "from vec import Vec"
   ]
  },
  {
   "cell_type": "code",
   "execution_count": 18,
   "metadata": {},
   "outputs": [],
   "source": [
    "# Task 3.3.2\n",
    "\n",
    "L=[[2,2],[3,2],[1.75,1],[2,1]]\n",
    "\n",
    "plot(L,4)"
   ]
  },
  {
   "cell_type": "code",
   "execution_count": 19,
   "metadata": {},
   "outputs": [],
   "source": [
    "# Task 3.4.2\n",
    "\n",
    "def move(L): \n",
    "    return [L[0]+1,L[1]+2]"
   ]
  },
  {
   "cell_type": "code",
   "execution_count": 20,
   "metadata": {},
   "outputs": [],
   "source": [
    "# Task 3.4.3\n",
    "\n",
    "def add2(List,trsprt): \n",
    "    return [[each[0]+trsprt[0],each[1]+trsprt[1]] for each in List]\n",
    "\n",
    "plot(add2(L,[1,2]),4)"
   ]
  },
  {
   "cell_type": "code",
   "execution_count": 6,
   "metadata": {},
   "outputs": [],
   "source": [
    "# Task 3.4.4\n",
    "\n",
    "def addn(L1,L2): \n",
    "    return [val+L2[idx] for (idx,val) in enumerate(L1)]"
   ]
  },
  {
   "cell_type": "code",
   "execution_count": 7,
   "metadata": {},
   "outputs": [],
   "source": [
    "# Task 3.5.3\n",
    "\n",
    "def scalar_vector_mult(alpha,v): \n",
    "    return [alpha*scalar for scalar in v]"
   ]
  },
  {
   "cell_type": "code",
   "execution_count": 21,
   "metadata": {},
   "outputs": [],
   "source": [
    "# Task 3.5.4\n",
    "\n",
    "plot([[0.5*x,0.5*y] for [x,y] in L],4)\n",
    "plot([[-0.5*x,-0.5*y] for [x,y] in L],4)\n"
   ]
  },
  {
   "cell_type": "code",
   "execution_count": 9,
   "metadata": {},
   "outputs": [],
   "source": [
    "# 80p에 있는 코드\n",
    "\n",
    "line=[scalar_vector_mult(i/100,[3,2]) for i in range(101)]\n",
    "\n",
    "translation_line=add2(line,[0.5,1])\n",
    "\n",
    "plot(translation_line,4)"
   ]
  },
  {
   "cell_type": "code",
   "execution_count": 11,
   "metadata": {},
   "outputs": [],
   "source": [
    "# Task 3.6.9\n",
    "\n",
    "def segment(pt1,pt2): \n",
    "    return [[i/100*pt1[0]+(1-i/100)*pt2[0],i/100*pt1[1]+(1-i/100)*pt2[1]] for i in range(101)]\n",
    "\n",
    "\n",
    "pt1 = [3.5,3]\n",
    "pt2 = [0.5,1]\n",
    "plot(segment(pt1, pt2),4)"
   ]
  },
  {
   "cell_type": "code",
   "execution_count": 12,
   "metadata": {},
   "outputs": [
    {
     "name": "stdout",
     "output_type": "stream",
     "text": [
      "0.0845\n"
     ]
    }
   ],
   "source": [
    "# Task 3.9.7\n",
    "\n",
    "def list_dot(u,v): \n",
    "    return sum([a*b for (a,b) in zip(u,v)])\n",
    "\n",
    "D={'memory','radio','sensor','CPU'}\n",
    "rate=Vec(D,{'memory':0.06,'radio':0.1,'sensor':0.004,'CPU':0.0025})\n",
    "duration=Vec(D,{'memory':1.0,'radio':0.2,'sensor':0.5,'CPU':1.0})\n",
    "\n",
    "print(list_dot(rate.f.values(),duration.f.values()))"
   ]
  },
  {
   "cell_type": "code",
   "execution_count": 13,
   "metadata": {},
   "outputs": [
    {
     "name": "stdout",
     "output_type": "stream",
     "text": [
      "2\n",
      "2\n",
      "0\n",
      "0\n"
     ]
    }
   ],
   "source": [
    "# Task 3.9.13\n",
    "long_seg=[1,-1,1,1,1,-1,1,1,1]\n",
    "small_seg=[1,-1,1,1,-1,1]\n",
    "\n",
    "for each in range(len(long_seg)-len(small_seg)+1):\n",
    "    print(list_dot(long_seg[each:len(small_seg)+each],small_seg))"
   ]
  },
  {
   "cell_type": "code",
   "execution_count": 14,
   "metadata": {},
   "outputs": [
    {
     "name": "stdout",
     "output_type": "stream",
     "text": [
      "[2, 2, 0, 0]\n"
     ]
    }
   ],
   "source": [
    "# Task 3.9.15\n",
    "def dot_product_list(needle,haystack):\n",
    "    return [list_dot(haystack[each:len(needle)+each],needle) for each in range(len(haystack)-len(needle)+1)]\n",
    "\n",
    "print(dot_product_list(small_seg,long_seg))"
   ]
  },
  {
   "cell_type": "code",
   "execution_count": 15,
   "metadata": {},
   "outputs": [],
   "source": [
    "# Task 3.10.1\n",
    "def list2vec(L): \n",
    "    return Vec(set(range(len(L))),{i:L[i] for i in range(len(L))})"
   ]
  },
  {
   "cell_type": "code",
   "execution_count": 16,
   "metadata": {},
   "outputs": [
    {
     "name": "stdout",
     "output_type": "stream",
     "text": [
      "[15.5, -3.0, 3.0]\n",
      "[17.8, 4.4, -1.2]\n",
      "None\n",
      "None\n",
      "None\n",
      "None\n"
     ]
    }
   ],
   "source": [
    "# Task 3.11.4\n",
    "\n",
    "def triangular_solve_n(a,b):\n",
    "    D=len(b)\n",
    "    x=[0 for each in range(len(b))]\n",
    "    for i in reversed(range(D)):\n",
    "        rest=[a[i][D-(idx+1)]*x[D-(idx+1)] for idx in range(D-(i+1))]\n",
    "        x[i]=(b[i] - sum(rest))/a[i][i]\n",
    "    return x\n",
    "\n",
    "a=[[2,3,-4],[0,1,2],[0,0,5]]\n",
    "b=[10,3,15]\n",
    "\n",
    "c=[[1,-3,-2],[0,2,4],[0,0,-10]]\n",
    "d=[7,4,12]\n",
    "\n",
    "print(triangular_solve_n(a,b))\n",
    "print(triangular_solve_n(c,d))\n",
    "\n",
    "v = Vec({'a','b','c', 'd'},{'a':2,'c':1,'d':3})\n",
    "u = Vec({'a','b','c', 'd'},{'c':1,'d':3})\n",
    "\n",
    "print(v+u)\n",
    "print(v*u)\n",
    "\n",
    "print(10*v)\n",
    "print(-u)"
   ]
  }
 ],
 "metadata": {
  "kernelspec": {
   "display_name": "base",
   "language": "python",
   "name": "python3"
  },
  "language_info": {
   "codemirror_mode": {
    "name": "ipython",
    "version": 3
   },
   "file_extension": ".py",
   "mimetype": "text/x-python",
   "name": "python",
   "nbconvert_exporter": "python",
   "pygments_lexer": "ipython3",
   "version": "3.9.12"
  },
  "orig_nbformat": 4,
  "vscode": {
   "interpreter": {
    "hash": "90dd8e222e66a46c4823a1b4b9d1b064846d8df9c63935832874d2206236ab47"
   }
  }
 },
 "nbformat": 4,
 "nbformat_minor": 2
}
